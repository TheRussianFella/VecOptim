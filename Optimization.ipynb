{
 "cells": [
  {
   "cell_type": "code",
   "execution_count": 1,
   "metadata": {
    "collapsed": false,
    "run_control": {
     "frozen": false,
     "read_only": false
    }
   },
   "outputs": [],
   "source": [
    "import tensorflow as tf\n",
    "import numpy as np\n",
    "from network_parts import *\n",
    "import matplotlib.pyplot as plt\n",
    "from utils import *\n",
    "import PIL\n",
    "\n",
    "%matplotlib inline"
   ]
  },
  {
   "cell_type": "code",
   "execution_count": 2,
   "metadata": {
    "collapsed": true,
    "run_control": {
     "frozen": false,
     "read_only": false
    }
   },
   "outputs": [],
   "source": [
    "shape = 100, 100\n",
    "num_channels = 1\n",
    "vec_size = 64\n",
    "num_classes = 10"
   ]
  },
  {
   "cell_type": "markdown",
   "metadata": {},
   "source": [
    "### Architecture"
   ]
  },
  {
   "cell_type": "code",
   "execution_count": 3,
   "metadata": {
    "collapsed": true,
    "run_control": {
     "frozen": false,
     "read_only": false
    }
   },
   "outputs": [],
   "source": [
    "blank = tf.placeholder(tf.float32)\n",
    "\n",
    "# Optimization variables\n",
    "\n",
    "z_vector = tf.Variable(np.zeros(shape=[1, vec_size]), dtype=tf.float32)\n",
    "target_vector = tf.Variable(np.zeros(shape=[1, num_classes]), dtype=tf.float32)\n",
    "\n",
    "# VAE Input\n",
    "\n",
    "input_images = tf.placeholder(tf.float32, shape=[None, shape[0], shape[1], num_channels])"
   ]
  },
  {
   "cell_type": "code",
   "execution_count": 4,
   "metadata": {
    "collapsed": false
   },
   "outputs": [],
   "source": [
    "with tf.variable_scope('encoder'):\n",
    "    mean, std = encoder(input_images, vec_size)\n",
    "\n",
    "encoded = mean + std * tf.random_uniform(tf.shape(mean), 0, 1, dtype=tf.float32)"
   ]
  },
  {
   "cell_type": "code",
   "execution_count": 5,
   "metadata": {
    "collapsed": false,
    "run_control": {
     "frozen": false,
     "read_only": false
    }
   },
   "outputs": [],
   "source": [
    "with tf.variable_scope('decoder'):\n",
    "    decoded = decoder(z_vector, vec_size, shape)"
   ]
  },
  {
   "cell_type": "code",
   "execution_count": 6,
   "metadata": {
    "collapsed": false,
    "run_control": {
     "frozen": false,
     "read_only": false
    }
   },
   "outputs": [],
   "source": [
    "with tf.variable_scope('classifier'):\n",
    "    classified = classifier(z_vector, num_classes)"
   ]
  },
  {
   "cell_type": "code",
   "execution_count": 7,
   "metadata": {
    "collapsed": false,
    "run_control": {
     "frozen": false,
     "read_only": false
    },
    "scrolled": true
   },
   "outputs": [],
   "source": [
    "probs = tf.nn.softmax(classified)"
   ]
  },
  {
   "cell_type": "code",
   "execution_count": 8,
   "metadata": {
    "collapsed": false,
    "run_control": {
     "frozen": false,
     "read_only": false
    }
   },
   "outputs": [],
   "source": [
    "loss = tf.reduce_mean(-tf.reduce_sum(target_vector * tf.log(probs), reduction_indices=[1]))"
   ]
  },
  {
   "cell_type": "code",
   "execution_count": 9,
   "metadata": {
    "collapsed": false,
    "run_control": {
     "frozen": false,
     "read_only": false
    }
   },
   "outputs": [],
   "source": [
    "optim = tf.train.AdamOptimizer().minimize(loss, var_list=[z_vector])"
   ]
  },
  {
   "cell_type": "markdown",
   "metadata": {},
   "source": [
    "### Utils"
   ]
  },
  {
   "cell_type": "code",
   "execution_count": 10,
   "metadata": {
    "collapsed": true,
    "run_control": {
     "frozen": false,
     "read_only": false
    }
   },
   "outputs": [],
   "source": [
    "sess = tf.InteractiveSession()\n",
    "\n",
    "sess.run(tf.global_variables_initializer())"
   ]
  },
  {
   "cell_type": "code",
   "execution_count": 11,
   "metadata": {
    "collapsed": false
   },
   "outputs": [],
   "source": [
    "vae_weights = list(filter(lambda x: 'decoder' in x.name or 'encoder' in x.name, tf.global_variables()))"
   ]
  },
  {
   "cell_type": "code",
   "execution_count": 12,
   "metadata": {
    "collapsed": true,
    "run_control": {
     "frozen": false,
     "read_only": false
    }
   },
   "outputs": [],
   "source": [
    "classifier_weights = list(filter(lambda x: 'classifier' in x.name, tf.global_variables()))"
   ]
  },
  {
   "cell_type": "code",
   "execution_count": 13,
   "metadata": {
    "collapsed": false,
    "run_control": {
     "frozen": false,
     "read_only": false
    },
    "scrolled": true
   },
   "outputs": [],
   "source": [
    "tf.train.Saver(classifier_weights).restore(sess, 'weights/classifier')\n",
    "tf.train.Saver(vae_weights).restore(sess, 'new_weights/VAE_notMNIST_56')"
   ]
  },
  {
   "cell_type": "markdown",
   "metadata": {},
   "source": [
    "### Optimization"
   ]
  },
  {
   "cell_type": "code",
   "execution_count": 14,
   "metadata": {
    "collapsed": true
   },
   "outputs": [],
   "source": [
    "def new_class_structure(target_classes, classes):\n",
    "    new = np.zeros(len(classes))\n",
    "    for cl in target_classes:\n",
    "        new[classes.index(cl)] = 10\n",
    "    return new"
   ]
  },
  {
   "cell_type": "code",
   "execution_count": 15,
   "metadata": {
    "collapsed": true
   },
   "outputs": [],
   "source": [
    "def new_class_structure(current_class, target_classes, classes):\n",
    "    new = current_class.copy()\n",
    "    for cl in target_classes:\n",
    "        new[classes.index(cl)] = 10\n",
    "    return new"
   ]
  },
  {
   "cell_type": "code",
   "execution_count": 16,
   "metadata": {
    "collapsed": true
   },
   "outputs": [],
   "source": [
    "class_names = np.load('class_names').tolist()"
   ]
  },
  {
   "cell_type": "code",
   "execution_count": 17,
   "metadata": {
    "collapsed": false
   },
   "outputs": [],
   "source": [
    "X, Y = [], []\n",
    "data_path = 'data/'\n",
    "class_indexes = {}\n",
    "\n",
    "for class_ind, dir in enumerate(class_names):\n",
    "    if os.path.isdir(os.path.join(data_path, dir)):\n",
    "        files = load_dir(os.path.join(data_path, dir), shape=shape)\n",
    "        X.extend(files)\n",
    "        Y.extend([class_ind for _ in range(len(files))])\n",
    "        class_indexes[dir] = len(X)-len(files)\n",
    "\n",
    "X = np.array(X)\n",
    "Y = np.array(Y)\n",
    "\n",
    "X = X.reshape([-1, shape[0], shape[1], 1])"
   ]
  },
  {
   "cell_type": "code",
   "execution_count": 19,
   "metadata": {
    "collapsed": false
   },
   "outputs": [
    {
     "data": {
      "text/plain": [
       "['F', 'I', 'G', 'A', 'B', 'E', 'D', 'C', 'H', 'J']"
      ]
     },
     "execution_count": 19,
     "metadata": {},
     "output_type": "execute_result"
    }
   ],
   "source": [
    "class_names"
   ]
  },
  {
   "cell_type": "code",
   "execution_count": 281,
   "metadata": {
    "collapsed": true
   },
   "outputs": [],
   "source": [
    "ind = class_indexes['A']+64"
   ]
  },
  {
   "cell_type": "code",
   "execution_count": 307,
   "metadata": {
    "collapsed": false
   },
   "outputs": [],
   "source": [
    "vec = sess.run(encoded, feed_dict={input_images: [X[ind]]})"
   ]
  },
  {
   "cell_type": "code",
   "execution_count": 308,
   "metadata": {
    "collapsed": false
   },
   "outputs": [
    {
     "data": {
      "text/plain": [
       "array([[  3.98736839e+01,   1.00901909e+02,   2.01028015e+02,\n",
       "          9.82312858e-02,  -6.88410950e+01,   2.79725971e+01,\n",
       "          1.61163006e+01,   9.03951721e+01,   1.73343582e+02,\n",
       "          1.07758514e+02,   1.23503246e+01,  -7.39635773e+01,\n",
       "          5.34216919e+01,   6.82088318e+01,   6.61275330e+01,\n",
       "         -9.41066284e+01,   2.11755478e+02,  -1.67714462e+02,\n",
       "          8.47731531e-01,  -5.25124321e+01,   5.78339767e+01,\n",
       "          2.38577698e+02,   1.17026543e+02,   2.13672470e+02,\n",
       "         -5.72195816e+01,  -1.56575455e+02,   5.70481949e+01,\n",
       "          5.19777489e+01,  -9.90358429e+01,  -6.57707787e+00,\n",
       "          6.24946098e+01,   1.95921173e+02,  -1.60990479e+02,\n",
       "          2.76512623e+01,   4.66258888e+01,   2.05279579e+01,\n",
       "         -2.10999413e+01,  -2.38534069e+01,  -2.56640076e+02,\n",
       "          2.26335938e+02,   1.61466236e+01,  -9.46100616e+00,\n",
       "          1.32499573e+02,  -1.56083755e+02,  -1.46115448e+02,\n",
       "         -9.59675217e+00,   2.14741528e-02,  -1.15520119e+02,\n",
       "          1.96866196e+02,   1.67381363e+01,   2.57508659e+01,\n",
       "          1.60295563e+01,  -1.11728928e+02,  -6.67920227e+01,\n",
       "          4.68834839e+01,   4.40715904e+01,   5.23368607e+01,\n",
       "         -9.30428410e+00,   6.16232185e+01,   2.40684921e+02,\n",
       "         -2.55968399e+02,   1.24921883e+02,   4.32059097e+01,\n",
       "          1.53610123e+02]], dtype=float32)"
      ]
     },
     "execution_count": 308,
     "metadata": {},
     "output_type": "execute_result"
    }
   ],
   "source": [
    "asignment_z = z_vector.assign(vec)\n",
    "sess.run(asignment_z)"
   ]
  },
  {
   "cell_type": "code",
   "execution_count": 309,
   "metadata": {
    "collapsed": true
   },
   "outputs": [],
   "source": [
    "new_class = np.zeros(len(class_names))\n",
    "new_class[class_names.index('B')] = 10\n",
    "#new_class[class_names.index('F')] = 5"
   ]
  },
  {
   "cell_type": "code",
   "execution_count": 310,
   "metadata": {
    "collapsed": false,
    "run_control": {
     "frozen": false,
     "read_only": false
    }
   },
   "outputs": [
    {
     "data": {
      "text/plain": [
       "array([[  0.,   0.,   0.,   0.,  10.,   0.,   0.,   0.,   0.,   0.]], dtype=float32)"
      ]
     },
     "execution_count": 310,
     "metadata": {},
     "output_type": "execute_result"
    }
   ],
   "source": [
    "asignment_y = target_vector.assign(np.array([new_class]))\n",
    "\n",
    "sess.run(asignment_y)"
   ]
  },
  {
   "cell_type": "code",
   "execution_count": 311,
   "metadata": {
    "collapsed": true
   },
   "outputs": [],
   "source": [
    "def print_classes(class_distribution, class_names):\n",
    "    for name, value in zip(class_names, class_distribution):\n",
    "        print(name, value, end=' ')\n",
    "    print('\\n')"
   ]
  },
  {
   "cell_type": "code",
   "execution_count": 312,
   "metadata": {
    "collapsed": false,
    "run_control": {
     "frozen": false,
     "read_only": false
    },
    "scrolled": true
   },
   "outputs": [
    {
     "name": "stdout",
     "output_type": "stream",
     "text": [
      "F 0.0410165 I 0.089739 G 0.314044 A 0.0353898 B 0.146172 E 0.0622129 D 0.0433874 C 0.138088 H 0.099199 J 0.0307513 \n",
      "\n",
      "F 0.0248614 I 0.119615 G 0.228068 A 0.0404963 B 0.269715 E 0.0580348 D 0.0590767 C 0.0412108 H 0.143869 J 0.0150532 \n",
      "\n",
      "F 0.0223688 I 0.121974 G 0.182687 A 0.0313718 B 0.345182 E 0.0587248 D 0.0547565 C 0.030188 H 0.144215 J 0.008532 \n",
      "\n",
      "F 0.0206506 I 0.119066 G 0.146738 A 0.0235089 B 0.416321 E 0.0583784 D 0.0489336 C 0.0237403 H 0.137665 J 0.00499775 \n",
      "\n",
      "F 0.0191538 I 0.112681 G 0.116826 A 0.0172171 B 0.485194 E 0.0567775 D 0.0428631 C 0.0190312 H 0.127302 J 0.00295399 \n",
      "\n",
      "F 0.0177376 I 0.103922 G 0.091963 A 0.0123838 B 0.551098 E 0.0540056 D 0.0370326 C 0.0153076 H 0.114798 J 0.00175115 \n",
      "\n",
      "F 0.0162895 I 0.0938731 G 0.0715116 A 0.00879267 B 0.6128 E 0.0503036 D 0.0316448 C 0.0122187 H 0.101529 J 0.00103729 \n",
      "\n",
      "F 0.0145402 I 0.0836299 G 0.0547905 A 0.00627673 B 0.66912 E 0.0455796 D 0.0270417 C 0.00936276 H 0.0890431 J 0.000615839 \n",
      "\n",
      "F 0.0117062 I 0.0747029 G 0.0407966 A 0.00478433 B 0.718768 E 0.0389258 D 0.0239169 C 0.00610692 H 0.0799215 J 0.00037047 \n",
      "\n",
      "F 0.00934826 I 0.066005 G 0.0301557 A 0.00362168 B 0.76185 E 0.0328813 D 0.0209727 C 0.0039595 H 0.0709839 J 0.00022239 \n",
      "\n",
      "F 0.00741545 I 0.0577884 G 0.0221483 A 0.00272524 B 0.798958 E 0.0275168 D 0.0182658 C 0.00255296 H 0.0624962 J 0.000133199 \n",
      "\n",
      "F 0.00584874 I 0.0502089 G 0.0161761 A 0.00204006 B 0.830721 E 0.0228456 D 0.0158189 C 0.00163758 H 0.0546238 J 7.95845e-05 \n",
      "\n",
      "F 0.00459022 I 0.0433511 G 0.0117573 A 0.00152022 B 0.857753 E 0.0188454 D 0.0136329 C 0.00104568 H 0.0474565 J 4.74268e-05 \n",
      "\n",
      "F 0.0035876 I 0.0372375 G 0.00851059 A 0.00112835 B 0.880655 E 0.0154648 D 0.0116992 C 0.000665223 H 0.0410238 J 2.81911e-05 \n",
      "\n",
      "F 0.00279383 I 0.0318511 G 0.00613885 A 0.000834665 B 0.899986 E 0.0126362 D 0.0100034 C 0.000421787 H 0.0353172 J 1.67165e-05 \n",
      "\n",
      "F 0.0021688 I 0.0271502 G 0.00441464 A 0.000615536 B 0.916259 E 0.0102901 D 0.00852511 C 0.000266687 H 0.0303002 J 9.88749e-06 \n",
      "\n",
      "F 0.00167905 I 0.0230771 G 0.00316646 A 0.000452744 B 0.929928 E 0.00835617 D 0.0072447 C 0.000168214 H 0.0259216 J 5.83483e-06 \n",
      "\n",
      "F 0.00129686 I 0.01957 G 0.00226623 A 0.000332244 B 0.94139 E 0.00677101 D 0.00614099 C 0.000105893 H 0.0221236 J 3.43586e-06 \n",
      "\n",
      "F 0.000999692 I 0.016564 G 0.00161891 A 0.000243342 B 0.95099 E 0.00547656 D 0.00519436 C 6.6547e-05 H 0.0188449 J 2.0194e-06 \n",
      "\n",
      "F 0.000769266 I 0.0139981 G 0.00115463 A 0.000177916 B 0.959023 E 0.00442344 D 0.00438496 C 4.1761e-05 H 0.0160259 J 1.18467e-06 \n",
      "\n",
      "F 0.000591056 I 0.0118146 G 0.000822352 A 0.000129882 B 0.965741 E 0.0035688 D 0.00369534 C 2.61744e-05 H 0.0136099 J 6.93805e-07 \n",
      "\n",
      "F 0.000453516 I 0.0099611 G 0.00058498 A 9.46851e-05 B 0.971358 E 0.0028767 D 0.0031093 C 1.63876e-05 H 0.0115448 J 4.05666e-07 \n",
      "\n",
      "F 0.00034758 I 0.00839119 G 0.000415697 A 6.8945e-05 B 0.976053 E 0.0023172 D 0.00261265 C 1.0251e-05 H 0.00978355 J 2.36853e-07 \n",
      "\n"
     ]
    },
    {
     "ename": "KeyboardInterrupt",
     "evalue": "",
     "output_type": "error",
     "traceback": [
      "\u001b[1;31m---------------------------------------------------------------------------\u001b[0m",
      "\u001b[1;31mKeyboardInterrupt\u001b[0m                         Traceback (most recent call last)",
      "\u001b[1;32m<ipython-input-312-154c0c9c417a>\u001b[0m in \u001b[0;36m<module>\u001b[1;34m()\u001b[0m\n\u001b[0;32m     10\u001b[0m     \u001b[1;31m#sess.run(target_vector.assign(np.array([new_class])))\u001b[0m\u001b[1;33m\u001b[0m\u001b[1;33m\u001b[0m\u001b[0m\n\u001b[0;32m     11\u001b[0m \u001b[1;33m\u001b[0m\u001b[0m\n\u001b[1;32m---> 12\u001b[1;33m     \u001b[0m_\u001b[0m\u001b[1;33m,\u001b[0m \u001b[0ml\u001b[0m \u001b[1;33m=\u001b[0m \u001b[0msess\u001b[0m\u001b[1;33m.\u001b[0m\u001b[0mrun\u001b[0m\u001b[1;33m(\u001b[0m\u001b[1;33m[\u001b[0m\u001b[0moptim\u001b[0m\u001b[1;33m,\u001b[0m \u001b[0mloss\u001b[0m\u001b[1;33m]\u001b[0m\u001b[1;33m,\u001b[0m \u001b[0mfeed_dict\u001b[0m\u001b[1;33m=\u001b[0m\u001b[1;33m{\u001b[0m\u001b[0mblank\u001b[0m\u001b[1;33m:\u001b[0m \u001b[1;36m1\u001b[0m\u001b[1;33m}\u001b[0m\u001b[1;33m)\u001b[0m\u001b[1;33m\u001b[0m\u001b[0m\n\u001b[0m",
      "\u001b[1;32m/home/mdm/anaconda3/lib/python3.5/site-packages/tensorflow/python/client/session.py\u001b[0m in \u001b[0;36mrun\u001b[1;34m(self, fetches, feed_dict, options, run_metadata)\u001b[0m\n\u001b[0;32m    893\u001b[0m     \u001b[1;32mtry\u001b[0m\u001b[1;33m:\u001b[0m\u001b[1;33m\u001b[0m\u001b[0m\n\u001b[0;32m    894\u001b[0m       result = self._run(None, fetches, feed_dict, options_ptr,\n\u001b[1;32m--> 895\u001b[1;33m                          run_metadata_ptr)\n\u001b[0m\u001b[0;32m    896\u001b[0m       \u001b[1;32mif\u001b[0m \u001b[0mrun_metadata\u001b[0m\u001b[1;33m:\u001b[0m\u001b[1;33m\u001b[0m\u001b[0m\n\u001b[0;32m    897\u001b[0m         \u001b[0mproto_data\u001b[0m \u001b[1;33m=\u001b[0m \u001b[0mtf_session\u001b[0m\u001b[1;33m.\u001b[0m\u001b[0mTF_GetBuffer\u001b[0m\u001b[1;33m(\u001b[0m\u001b[0mrun_metadata_ptr\u001b[0m\u001b[1;33m)\u001b[0m\u001b[1;33m\u001b[0m\u001b[0m\n",
      "\u001b[1;32m/home/mdm/anaconda3/lib/python3.5/site-packages/tensorflow/python/client/session.py\u001b[0m in \u001b[0;36m_run\u001b[1;34m(self, handle, fetches, feed_dict, options, run_metadata)\u001b[0m\n\u001b[0;32m   1126\u001b[0m     \u001b[1;32mif\u001b[0m \u001b[0mfinal_fetches\u001b[0m \u001b[1;32mor\u001b[0m \u001b[0mfinal_targets\u001b[0m \u001b[1;32mor\u001b[0m \u001b[1;33m(\u001b[0m\u001b[0mhandle\u001b[0m \u001b[1;32mand\u001b[0m \u001b[0mfeed_dict_tensor\u001b[0m\u001b[1;33m)\u001b[0m\u001b[1;33m:\u001b[0m\u001b[1;33m\u001b[0m\u001b[0m\n\u001b[0;32m   1127\u001b[0m       results = self._do_run(handle, final_targets, final_fetches,\n\u001b[1;32m-> 1128\u001b[1;33m                              feed_dict_tensor, options, run_metadata)\n\u001b[0m\u001b[0;32m   1129\u001b[0m     \u001b[1;32melse\u001b[0m\u001b[1;33m:\u001b[0m\u001b[1;33m\u001b[0m\u001b[0m\n\u001b[0;32m   1130\u001b[0m       \u001b[0mresults\u001b[0m \u001b[1;33m=\u001b[0m \u001b[1;33m[\u001b[0m\u001b[1;33m]\u001b[0m\u001b[1;33m\u001b[0m\u001b[0m\n",
      "\u001b[1;32m/home/mdm/anaconda3/lib/python3.5/site-packages/tensorflow/python/client/session.py\u001b[0m in \u001b[0;36m_do_run\u001b[1;34m(self, handle, target_list, fetch_list, feed_dict, options, run_metadata)\u001b[0m\n\u001b[0;32m   1342\u001b[0m     \u001b[1;32mif\u001b[0m \u001b[0mhandle\u001b[0m \u001b[1;32mis\u001b[0m \u001b[1;32mNone\u001b[0m\u001b[1;33m:\u001b[0m\u001b[1;33m\u001b[0m\u001b[0m\n\u001b[0;32m   1343\u001b[0m       return self._do_call(_run_fn, self._session, feeds, fetches, targets,\n\u001b[1;32m-> 1344\u001b[1;33m                            options, run_metadata)\n\u001b[0m\u001b[0;32m   1345\u001b[0m     \u001b[1;32melse\u001b[0m\u001b[1;33m:\u001b[0m\u001b[1;33m\u001b[0m\u001b[0m\n\u001b[0;32m   1346\u001b[0m       \u001b[1;32mreturn\u001b[0m \u001b[0mself\u001b[0m\u001b[1;33m.\u001b[0m\u001b[0m_do_call\u001b[0m\u001b[1;33m(\u001b[0m\u001b[0m_prun_fn\u001b[0m\u001b[1;33m,\u001b[0m \u001b[0mself\u001b[0m\u001b[1;33m.\u001b[0m\u001b[0m_session\u001b[0m\u001b[1;33m,\u001b[0m \u001b[0mhandle\u001b[0m\u001b[1;33m,\u001b[0m \u001b[0mfeeds\u001b[0m\u001b[1;33m,\u001b[0m \u001b[0mfetches\u001b[0m\u001b[1;33m)\u001b[0m\u001b[1;33m\u001b[0m\u001b[0m\n",
      "\u001b[1;32m/home/mdm/anaconda3/lib/python3.5/site-packages/tensorflow/python/client/session.py\u001b[0m in \u001b[0;36m_do_call\u001b[1;34m(self, fn, *args)\u001b[0m\n\u001b[0;32m   1348\u001b[0m   \u001b[1;32mdef\u001b[0m \u001b[0m_do_call\u001b[0m\u001b[1;33m(\u001b[0m\u001b[0mself\u001b[0m\u001b[1;33m,\u001b[0m \u001b[0mfn\u001b[0m\u001b[1;33m,\u001b[0m \u001b[1;33m*\u001b[0m\u001b[0margs\u001b[0m\u001b[1;33m)\u001b[0m\u001b[1;33m:\u001b[0m\u001b[1;33m\u001b[0m\u001b[0m\n\u001b[0;32m   1349\u001b[0m     \u001b[1;32mtry\u001b[0m\u001b[1;33m:\u001b[0m\u001b[1;33m\u001b[0m\u001b[0m\n\u001b[1;32m-> 1350\u001b[1;33m       \u001b[1;32mreturn\u001b[0m \u001b[0mfn\u001b[0m\u001b[1;33m(\u001b[0m\u001b[1;33m*\u001b[0m\u001b[0margs\u001b[0m\u001b[1;33m)\u001b[0m\u001b[1;33m\u001b[0m\u001b[0m\n\u001b[0m\u001b[0;32m   1351\u001b[0m     \u001b[1;32mexcept\u001b[0m \u001b[0merrors\u001b[0m\u001b[1;33m.\u001b[0m\u001b[0mOpError\u001b[0m \u001b[1;32mas\u001b[0m \u001b[0me\u001b[0m\u001b[1;33m:\u001b[0m\u001b[1;33m\u001b[0m\u001b[0m\n\u001b[0;32m   1352\u001b[0m       \u001b[0mmessage\u001b[0m \u001b[1;33m=\u001b[0m \u001b[0mcompat\u001b[0m\u001b[1;33m.\u001b[0m\u001b[0mas_text\u001b[0m\u001b[1;33m(\u001b[0m\u001b[0me\u001b[0m\u001b[1;33m.\u001b[0m\u001b[0mmessage\u001b[0m\u001b[1;33m)\u001b[0m\u001b[1;33m\u001b[0m\u001b[0m\n",
      "\u001b[1;32m/home/mdm/anaconda3/lib/python3.5/site-packages/tensorflow/python/client/session.py\u001b[0m in \u001b[0;36m_run_fn\u001b[1;34m(session, feed_dict, fetch_list, target_list, options, run_metadata)\u001b[0m\n\u001b[0;32m   1327\u001b[0m           return tf_session.TF_Run(session, options,\n\u001b[0;32m   1328\u001b[0m                                    \u001b[0mfeed_dict\u001b[0m\u001b[1;33m,\u001b[0m \u001b[0mfetch_list\u001b[0m\u001b[1;33m,\u001b[0m \u001b[0mtarget_list\u001b[0m\u001b[1;33m,\u001b[0m\u001b[1;33m\u001b[0m\u001b[0m\n\u001b[1;32m-> 1329\u001b[1;33m                                    status, run_metadata)\n\u001b[0m\u001b[0;32m   1330\u001b[0m \u001b[1;33m\u001b[0m\u001b[0m\n\u001b[0;32m   1331\u001b[0m     \u001b[1;32mdef\u001b[0m \u001b[0m_prun_fn\u001b[0m\u001b[1;33m(\u001b[0m\u001b[0msession\u001b[0m\u001b[1;33m,\u001b[0m \u001b[0mhandle\u001b[0m\u001b[1;33m,\u001b[0m \u001b[0mfeed_dict\u001b[0m\u001b[1;33m,\u001b[0m \u001b[0mfetch_list\u001b[0m\u001b[1;33m)\u001b[0m\u001b[1;33m:\u001b[0m\u001b[1;33m\u001b[0m\u001b[0m\n",
      "\u001b[1;31mKeyboardInterrupt\u001b[0m: "
     ]
    }
   ],
   "source": [
    "for _ in range(300000):\n",
    "    #cl = sess.run([probs], feed_dict={blank: 1})[0][0]\n",
    "    \n",
    "    if _ % 1000 == 0:\n",
    "        cl = sess.run([probs], feed_dict={blank: 1})[0][0]\n",
    "        print_classes(cl, class_names)\n",
    "        \n",
    "    #new_class = new_class_structure(cl, ['E'], class_names)\n",
    "\n",
    "    #sess.run(target_vector.assign(np.array([new_class])))\n",
    "\n",
    "    _, l = sess.run([optim, loss], feed_dict={blank: 1})"
   ]
  },
  {
   "cell_type": "code",
   "execution_count": 313,
   "metadata": {
    "collapsed": false,
    "run_control": {
     "frozen": false,
     "read_only": false
    }
   },
   "outputs": [],
   "source": [
    "a = sess.run(decoded, feed_dict={blank: 1}).reshape(shape)"
   ]
  },
  {
   "cell_type": "code",
   "execution_count": 314,
   "metadata": {
    "collapsed": false
   },
   "outputs": [
    {
     "data": {
      "text/plain": [
       "<matplotlib.image.AxesImage at 0x7f9f5c9c25c0>"
      ]
     },
     "execution_count": 314,
     "metadata": {},
     "output_type": "execute_result"
    },
    {
     "data": {
      "image/png": "[encoded data removed]",
      "text/plain": [
       "<matplotlib.figure.Figure at 0x7f9f5ca72668>"
      ]
     },
     "metadata": {},
     "output_type": "display_data"
    }
   ],
   "source": [
    "plt.imshow(PIL.Image.fromarray(a.reshape(shape).astype(np.uint8)), cmap='Greys')"
   ]
  },
  {
   "cell_type": "code",
   "execution_count": 302,
   "metadata": {
    "collapsed": true
   },
   "outputs": [],
   "source": [
    "ind = class_indexes['A']+97"
   ]
  },
  {
   "cell_type": "code",
   "execution_count": 304,
   "metadata": {
    "collapsed": false
   },
   "outputs": [
    {
     "data": {
      "text/plain": [
       "<matplotlib.image.AxesImage at 0x7f9f5ca53668>"
      ]
     },
     "execution_count": 304,
     "metadata": {},
     "output_type": "execute_result"
    },
    {
     "data": {
      "image/png": "[encoded data removed]",
      "text/plain": [
       "<matplotlib.figure.Figure at 0x7f9f5cacf518>"
      ]
     },
     "metadata": {},
     "output_type": "display_data"
    }
   ],
   "source": [
    "plt.imshow(PIL.Image.fromarray(X[ind].reshape(shape).astype(np.uint8)), cmap='Greys')"
   ]
  },
  {
   "cell_type": "code",
   "execution_count": 243,
   "metadata": {
    "collapsed": true
   },
   "outputs": [],
   "source": [
    "good_idx = [12]"
   ]
  }
 ],
 "metadata": {
  "anaconda-cloud": {},
  "hide_input": false,
  "kernelspec": {
   "display_name": "Python [Root]",
   "language": "python",
   "name": "Python [Root]"
  },
  "language_info": {
   "codemirror_mode": {
    "name": "ipython",
    "version": 3
   },
   "file_extension": ".py",
   "mimetype": "text/x-python",
   "name": "python",
   "nbconvert_exporter": "python",
   "pygments_lexer": "ipython3",
   "version": "3.5.2"
  },
  "nav_menu": {},
  "toc": {
   "navigate_menu": true,
   "number_sections": false,
   "sideBar": true,
   "threshold": 6,
   "toc_cell": false,
   "toc_section_display": "block",
   "toc_window_display": false
  },
  "varInspector": {
   "cols": {
    "lenName": 16,
    "lenType": 16,
    "lenVar": 40
   },
   "kernels_config": {
    "python": {
     "delete_cmd_postfix": "",
     "delete_cmd_prefix": "del ",
     "library": "var_list.py",
     "varRefreshCmd": "print(var_dic_list())"
    },
    "r": {
     "delete_cmd_postfix": ") ",
     "delete_cmd_prefix": "rm(",
     "library": "var_list.r",
     "varRefreshCmd": "cat(var_dic_list()) "
    }
   },
   "types_to_exclude": [
    "module",
    "function",
    "builtin_function_or_method",
    "instance",
    "_Feature"
   ],
   "window_display": true
  }
 },
 "nbformat": 4,
 "nbformat_minor": 2
}
